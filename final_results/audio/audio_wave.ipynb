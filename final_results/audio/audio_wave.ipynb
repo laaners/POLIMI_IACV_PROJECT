{
 "cells": [
  {
   "cell_type": "code",
   "execution_count": null,
   "metadata": {},
   "outputs": [],
   "source": [
    "import librosa\n",
    "\n",
    "file_path = 'audio.wav'\n",
    "audio, sr = librosa.load(file_path, sr=16000)\n",
    "audio"
   ]
  }
 ],
 "metadata": {
  "language_info": {
   "name": "python"
  },
  "orig_nbformat": 4
 },
 "nbformat": 4,
 "nbformat_minor": 2
}
